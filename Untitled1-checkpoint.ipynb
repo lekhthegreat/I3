{
 "cells": [
  {
   "cell_type": "markdown",
   "id": "a5b0e700",
   "metadata": {},
   "source": [
    "# Python is a high-level, general-purpose, interpreted programming language which was invented in 1991 by Guido Van Rossoum."
   ]
  },
  {
   "cell_type": "code",
   "execution_count": null,
   "id": "3d1967a7",
   "metadata": {},
   "outputs": [],
   "source": [
    "# Python --version"
   ]
  },
  {
   "cell_type": "code",
   "execution_count": null,
   "id": "14bf94cf",
   "metadata": {},
   "outputs": [],
   "source": [
    "kFundamentals of Python\n",
    "# (1). Data types\n",
    "# (2). Variable\n",
    "# (3). printf() and input()"
   ]
  },
  {
   "cell_type": "code",
   "execution_count": null,
   "id": "ee9bf9c7",
   "metadata": {},
   "outputs": [],
   "source": [
    "# (a). Integer\n",
    "# Ex. a = 56, 78, -34\n",
    "# (b). Float ===> All decimal values.\n",
    "# (c). String ===> 'single_quotes'\n",
    "# (d). Boolean\n",
    "#Ex. 5>4 ==> true, 4<3 ===> False"
   ]
  },
  {
   "cell_type": "code",
   "execution_count": null,
   "id": "c24949c8",
   "metadata": {},
   "outputs": [],
   "source": [
    "type() ===> using type(), we can check data type of element."
   ]
  },
  {
   "cell_type": "code",
   "execution_count": null,
   "id": "80bb2292",
   "metadata": {},
   "outputs": [],
   "source": [
    "print(type(45))\n",
    "print(type(45.78))\n",
    "print(type('45'))\n",
    "print(type(5>4))"
   ]
  },
  {
   "cell_type": "code",
   "execution_count": null,
   "id": "92d3fb3f",
   "metadata": {},
   "outputs": [],
   "source": [
    "Variable ===> This is a container in wchich we can store or assign our values"
   ]
  },
  {
   "cell_type": "code",
   "execution_count": 2,
   "id": "34bbb8fa",
   "metadata": {},
   "outputs": [],
   "source": [
    "a = 45\n",
    "b = 'sam'\n",
    "c = 4>3 ### a,b,c = variable"
   ]
  },
  {
   "cell_type": "code",
   "execution_count": null,
   "id": "a8db495d",
   "metadata": {},
   "outputs": [],
   "source": [
    "# input() ===> this is a pre-defined function of python in which it will take \n",
    "#query from a user and its output will be in string format.\n"
   ]
  },
  {
   "cell_type": "code",
   "execution_count": 3,
   "id": "041e5a6d",
   "metadata": {},
   "outputs": [
    {
     "data": {
      "text/plain": [
       "str"
      ]
     },
     "execution_count": 3,
     "metadata": {},
     "output_type": "execute_result"
    }
   ],
   "source": [
    "a = '12'\n",
    "type(a)"
   ]
  },
  {
   "cell_type": "code",
   "execution_count": 4,
   "id": "0fb7a401",
   "metadata": {},
   "outputs": [
    {
     "data": {
      "text/plain": [
       "'1234'"
      ]
     },
     "execution_count": 4,
     "metadata": {},
     "output_type": "execute_result"
    }
   ],
   "source": [
    "a = '12'\n",
    "b = '34'\n",
    "c=a+b\n",
    "c"
   ]
  },
  {
   "cell_type": "code",
   "execution_count": 5,
   "id": "0f3ee27c",
   "metadata": {},
   "outputs": [
    {
     "name": "stdout",
     "output_type": "stream",
     "text": [
      "enter first number12\n",
      "enter second number34\n"
     ]
    },
    {
     "data": {
      "text/plain": [
       "'1234'"
      ]
     },
     "execution_count": 5,
     "metadata": {},
     "output_type": "execute_result"
    }
   ],
   "source": [
    "a = input(\"enter first number\")\n",
    "b = input(\"enter second number\")\n",
    "c = a + b\n",
    "c"
   ]
  },
  {
   "cell_type": "code",
   "execution_count": null,
   "id": "0ee36b10",
   "metadata": {},
   "outputs": [],
   "source": [
    "# type-casting ===> using this method, we can convert one data type to another\n",
    "# data type."
   ]
  },
  {
   "cell_type": "code",
   "execution_count": 6,
   "id": "104c85a7",
   "metadata": {},
   "outputs": [
    {
     "data": {
      "text/plain": [
       "67"
      ]
     },
     "execution_count": 6,
     "metadata": {},
     "output_type": "execute_result"
    }
   ],
   "source": [
    "a = int(67.89)\n",
    "a"
   ]
  },
  {
   "cell_type": "code",
   "execution_count": 7,
   "id": "0132052f",
   "metadata": {},
   "outputs": [
    {
     "name": "stdout",
     "output_type": "stream",
     "text": [
      "enter first number:12\n",
      "enter second number:34\n"
     ]
    },
    {
     "data": {
      "text/plain": [
       "46"
      ]
     },
     "execution_count": 7,
     "metadata": {},
     "output_type": "execute_result"
    }
   ],
   "source": [
    "a = int(input(\"enter first number:\"))\n",
    "b = int(input(\"enter second number:\"))\n",
    "c = a+b\n",
    "c"
   ]
  },
  {
   "cell_type": "code",
   "execution_count": 8,
   "id": "4b2befcf",
   "metadata": {},
   "outputs": [
    {
     "name": "stdout",
     "output_type": "stream",
     "text": [
      "45\n",
      "god\n"
     ]
    }
   ],
   "source": [
    "#print() ===> it will execute our query on terminal.\n",
    "print(45)\n",
    "print('god')"
   ]
  },
  {
   "cell_type": "code",
   "execution_count": 11,
   "id": "5de0e655",
   "metadata": {},
   "outputs": [],
   "source": [
    "# mostly used operators in python\n",
    "# (1). addition(+) ==> 5+3 = 8\n",
    "# (2). Subtraction(-) ==> 3-1 = 2\n",
    "# (3). multiplication(*) == > 5*3 = 15\n",
    "# 4 division(/) ==> 5/2 = 2.5\n",
    "#(5). floor division(//) 5//2 = 1\n",
    "#(6) module(%) ==> for remainder calculation ==> 25%10 = 5(remainder)\n",
    "#(7). equal to(=) ==> for values assignment ===> a=5, b=10\n",
    "# (8). equal equal to (==) ===> for values comparision ==> a == b , 4 == 5\n",
    "# (9). not equal to(!=) 4!=5\n",
    "# (10). greater than(>) == > 5>4\n",
    "# (11). greater than or equal to (>=) ==> 5>=5\n",
    "# (12). less than (<) ===> 3<4\n",
    "# (13). less than or equal to(<=) ===> 3<=3"
   ]
  },
  {
   "cell_type": "markdown",
   "id": "a48c3442",
   "metadata": {},
   "source": [
    "# conditional statement in python"
   ]
  },
  {
   "cell_type": "code",
   "execution_count": 12,
   "id": "60a92026",
   "metadata": {},
   "outputs": [],
   "source": [
    "#(1). if\n",
    "#(2). elif\n",
    "#(3). else"
   ]
  },
  {
   "cell_type": "code",
   "execution_count": 18,
   "id": "e796d62c",
   "metadata": {},
   "outputs": [
    {
     "name": "stdout",
     "output_type": "stream",
     "text": [
      "yes\n"
     ]
    }
   ],
   "source": [
    "a = \"jod\"\n",
    "if a == \"jod\":\n",
    "    print(\"yes\")\n",
    "elif a == \"dog\":\n",
    "    print(\"no\")\n",
    "elif a == \"god\":\n",
    "    print(\"ok\")\n",
    "else:\n",
    "    print(\"try again\")\n"
   ]
  },
  {
   "cell_type": "code",
   "execution_count": 17,
   "id": "7f2db19c",
   "metadata": {},
   "outputs": [
    {
     "name": "stdout",
     "output_type": "stream",
     "text": [
      "enter your name:mofo\n",
      "try again\n"
     ]
    }
   ],
   "source": [
    "a = input(\"enter your name:\")\n",
    "if a == \"jod\":\n",
    "    print(\"yes\")\n",
    "elif a == \"dog\":\n",
    "    print(\"no\")\n",
    "elif a == \"god\":\n",
    "    print(\"ok\")\n",
    "else:\n",
    "    print(\"try again\")\n"
   ]
  },
  {
   "cell_type": "code",
   "execution_count": 25,
   "id": "cd8fac23",
   "metadata": {},
   "outputs": [
    {
     "name": "stdout",
     "output_type": "stream",
     "text": [
      "Enter your age: 111\n",
      "G.O.A.T\n"
     ]
    }
   ],
   "source": [
    "a = int(input(\"Enter your age: \"))\n",
    "if 0 <= a <= 19:\n",
    "    print(\"teenage\")\n",
    "elif 20 <= a <= 35:\n",
    "    print(\"young\")\n",
    "elif 35 <= a <= 90:\n",
    "    print(\"bhudda\")\n",
    "elif 90 <= a <= 200:\n",
    "    print(\"G.O.A.T\")\n",
    "else:\n",
    "    print(\"Please enter a valid age\")\n"
   ]
  },
  {
   "cell_type": "markdown",
   "id": "f833fd1d",
   "metadata": {},
   "source": [
    "# Nested Conditional Statement"
   ]
  },
  {
   "cell_type": "code",
   "execution_count": 31,
   "id": "cd00cbf1",
   "metadata": {},
   "outputs": [
    {
     "name": "stdout",
     "output_type": "stream",
     "text": [
      "Enter number: 19\n",
      "Your RTO information:\n",
      "You can drive\n",
      "You won a scratch coupon\n"
     ]
    }
   ],
   "source": [
    "a = int(input(\"Enter number: \"))\n",
    "if 0 <= a <= 30:\n",
    "    print(\"Your RTO information:\")\n",
    "    if 18 <= a <= 100:\n",
    "        if a == 19:\n",
    "            print(\"You can drive\")\n",
    "            print(\"You won a scratch coupon\")\n",
    "        else:\n",
    "            print(\"You can't drive, you dumbo\")\n"
   ]
  },
  {
   "cell_type": "code",
   "execution_count": 32,
   "id": "685f7b19",
   "metadata": {},
   "outputs": [
    {
     "name": "stdout",
     "output_type": "stream",
     "text": [
      "j\n",
      "o\n",
      "d\n"
     ]
    }
   ],
   "source": [
    "#method - 1\n",
    "a = \"jod\"\n",
    "for i in a:\n",
    "    print(i)"
   ]
  },
  {
   "cell_type": "code",
   "execution_count": 34,
   "id": "f689f84b",
   "metadata": {},
   "outputs": [
    {
     "name": "stdout",
     "output_type": "stream",
     "text": [
      "j o d "
     ]
    }
   ],
   "source": [
    "a = \"jod\"\n",
    "for i in a:\n",
    "    print(i, end = \" \")"
   ]
  },
  {
   "cell_type": "code",
   "execution_count": 35,
   "id": "a6c9992f",
   "metadata": {},
   "outputs": [
    {
     "data": {
      "text/plain": [
       "3"
      ]
     },
     "execution_count": 35,
     "metadata": {},
     "output_type": "execute_result"
    }
   ],
   "source": [
    "a= \"jod\"\n",
    "len(a)"
   ]
  },
  {
   "cell_type": "code",
   "execution_count": 36,
   "id": "c52c46c8",
   "metadata": {},
   "outputs": [
    {
     "name": "stdout",
     "output_type": "stream",
     "text": [
      "j\n",
      "o\n",
      "d\n"
     ]
    }
   ],
   "source": [
    "for i in range(len(a)):\n",
    "    print(a[i])"
   ]
  },
  {
   "cell_type": "code",
   "execution_count": null,
   "id": "0e51b19a",
   "metadata": {},
   "outputs": [],
   "source": []
  }
 ],
 "metadata": {
  "kernelspec": {
   "display_name": "Python 3 (ipykernel)",
   "language": "python",
   "name": "python3"
  },
  "language_info": {
   "codemirror_mode": {
    "name": "ipython",
    "version": 3
   },
   "file_extension": ".py",
   "mimetype": "text/x-python",
   "name": "python",
   "nbconvert_exporter": "python",
   "pygments_lexer": "ipython3",
   "version": "3.11.5"
  }
 },
 "nbformat": 4,
 "nbformat_minor": 5
}
