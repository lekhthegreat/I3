{
 "cells": [
  {
   "cell_type": "markdown",
   "id": "c5cb602a",
   "metadata": {},
   "source": [
    "# Python is a high-level, general-purpose, interpreted programming language which was invented in 1991 by Guido Van Rossoum."
   ]
  },
  {
   "cell_type": "code",
   "execution_count": null,
   "id": "f1a20111",
   "metadata": {},
   "outputs": [],
   "source": [
    "# Python --version"
   ]
  },
  {
   "cell_type": "code",
   "execution_count": null,
   "id": "22391b9e",
   "metadata": {},
   "outputs": [],
   "source": [
    "kFundamentals of Python\n",
    "# (1). Data types\n",
    "# (2). Variable\n",
    "# (3). printf() and input()"
   ]
  },
  {
   "cell_type": "code",
   "execution_count": null,
   "id": "a44e1ed9",
   "metadata": {},
   "outputs": [],
   "source": [
    "# (a). Integer\n",
    "# Ex. a = 56, 78, -34\n",
    "# (b). Float ===> All decimal values.\n",
    "# (c). String ===> 'single_quotes'\n",
    "# (d). Boolean\n",
    "#Ex. 5>4 ==> true, 4<3 ===> False"
   ]
  },
  {
   "cell_type": "code",
   "execution_count": null,
   "id": "7abb046f",
   "metadata": {},
   "outputs": [],
   "source": [
    "type() ===> using type(), we can check data type of element."
   ]
  },
  {
   "cell_type": "code",
   "execution_count": null,
   "id": "299d844e",
   "metadata": {},
   "outputs": [],
   "source": [
    "print(type(45))\n",
    "print(type(45.78))\n",
    "print(type('45'))\n",
    "print(type(5>4))"
   ]
  },
  {
   "cell_type": "code",
   "execution_count": null,
   "id": "b49f1939",
   "metadata": {},
   "outputs": [],
   "source": [
    "Variable ===> This is a container in wchich we can store or assign our values"
   ]
  },
  {
   "cell_type": "code",
   "execution_count": 2,
   "id": "b1a6d648",
   "metadata": {},
   "outputs": [],
   "source": [
    "a = 45\n",
    "b = 'sam'\n",
    "c = 4>3 ### a,b,c = variable"
   ]
  },
  {
   "cell_type": "code",
   "execution_count": null,
   "id": "f6bbd045",
   "metadata": {},
   "outputs": [],
   "source": [
    "# input() ===> this is a pre-defined function of python in which it will take \n",
    "#query from a user and its output will be in string format.\n"
   ]
  },
  {
   "cell_type": "code",
   "execution_count": 3,
   "id": "ba9a0455",
   "metadata": {},
   "outputs": [
    {
     "data": {
      "text/plain": [
       "str"
      ]
     },
     "execution_count": 3,
     "metadata": {},
     "output_type": "execute_result"
    }
   ],
   "source": [
    "a = '12'\n",
    "type(a)"
   ]
  },
  {
   "cell_type": "code",
   "execution_count": 4,
   "id": "112be740",
   "metadata": {},
   "outputs": [
    {
     "data": {
      "text/plain": [
       "'1234'"
      ]
     },
     "execution_count": 4,
     "metadata": {},
     "output_type": "execute_result"
    }
   ],
   "source": [
    "a = '12'\n",
    "b = '34'\n",
    "c=a+b\n",
    "c"
   ]
  },
  {
   "cell_type": "code",
   "execution_count": 5,
   "id": "3802db2a",
   "metadata": {},
   "outputs": [
    {
     "name": "stdout",
     "output_type": "stream",
     "text": [
      "enter first number12\n",
      "enter second number34\n"
     ]
    },
    {
     "data": {
      "text/plain": [
       "'1234'"
      ]
     },
     "execution_count": 5,
     "metadata": {},
     "output_type": "execute_result"
    }
   ],
   "source": [
    "a = input(\"enter first number\")\n",
    "b = input(\"enter second number\")\n",
    "c = a + b\n",
    "c"
   ]
  },
  {
   "cell_type": "code",
   "execution_count": null,
   "id": "3bfc68f4",
   "metadata": {},
   "outputs": [],
   "source": [
    "# type-casting ===> using this method, we can convert one data type to another\n",
    "# data type."
   ]
  },
  {
   "cell_type": "code",
   "execution_count": 6,
   "id": "879ca6bc",
   "metadata": {},
   "outputs": [
    {
     "data": {
      "text/plain": [
       "67"
      ]
     },
     "execution_count": 6,
     "metadata": {},
     "output_type": "execute_result"
    }
   ],
   "source": [
    "a = int(67.89)\n",
    "a"
   ]
  },
  {
   "cell_type": "code",
   "execution_count": 7,
   "id": "95f406f1",
   "metadata": {},
   "outputs": [
    {
     "name": "stdout",
     "output_type": "stream",
     "text": [
      "enter first number:12\n",
      "enter second number:34\n"
     ]
    },
    {
     "data": {
      "text/plain": [
       "46"
      ]
     },
     "execution_count": 7,
     "metadata": {},
     "output_type": "execute_result"
    }
   ],
   "source": [
    "a = int(input(\"enter first number:\"))\n",
    "b = int(input(\"enter second number:\"))\n",
    "c = a+b\n",
    "c"
   ]
  },
  {
   "cell_type": "code",
   "execution_count": 8,
   "id": "cf360428",
   "metadata": {},
   "outputs": [
    {
     "name": "stdout",
     "output_type": "stream",
     "text": [
      "45\n",
      "god\n"
     ]
    }
   ],
   "source": [
    "#print() ===> it will execute our query on terminal.\n",
    "print(45)\n",
    "print('god')"
   ]
  },
  {
   "cell_type": "code",
   "execution_count": 11,
   "id": "acebaf89",
   "metadata": {},
   "outputs": [],
   "source": [
    "# mostly used operators in python\n",
    "# (1). addition(+) ==> 5+3 = 8\n",
    "# (2). Subtraction(-) ==> 3-1 = 2\n",
    "# (3). multiplication(*) == > 5*3 = 15\n",
    "# 4 division(/) ==> 5/2 = 2.5\n",
    "#(5). floor division(//) 5//2 = 1\n",
    "#(6) module(%) ==> for remainder calculation ==> 25%10 = 5(remainder)\n",
    "#(7). equal to(=) ==> for values assignment ===> a=5, b=10\n",
    "# (8). equal equal to (==) ===> for values comparision ==> a == b , 4 == 5\n",
    "# (9). not equal to(!=) 4!=5\n",
    "# (10). greater than(>) == > 5>4\n",
    "# (11). greater than or equal to (>=) ==> 5>=5\n",
    "# (12). less than (<) ===> 3<4\n",
    "# (13). less than or equal to(<=) ===> 3<=3"
   ]
  },
  {
   "cell_type": "markdown",
   "id": "64cdcce8",
   "metadata": {},
   "source": [
    "# conditional statement in python"
   ]
  },
  {
   "cell_type": "code",
   "execution_count": 12,
   "id": "ee3b596c",
   "metadata": {},
   "outputs": [],
   "source": [
    "#(1). if\n",
    "#(2). elif\n",
    "#(3). else"
   ]
  },
  {
   "cell_type": "code",
   "execution_count": 18,
   "id": "dc8a39f4",
   "metadata": {},
   "outputs": [
    {
     "name": "stdout",
     "output_type": "stream",
     "text": [
      "yes\n"
     ]
    }
   ],
   "source": [
    "a = \"jod\"\n",
    "if a == \"jod\":\n",
    "    print(\"yes\")\n",
    "elif a == \"dog\":\n",
    "    print(\"no\")\n",
    "elif a == \"god\":\n",
    "    print(\"ok\")\n",
    "else:\n",
    "    print(\"try again\")\n"
   ]
  },
  {
   "cell_type": "code",
   "execution_count": 17,
   "id": "faeb38d4",
   "metadata": {},
   "outputs": [
    {
     "name": "stdout",
     "output_type": "stream",
     "text": [
      "enter your name:mofo\n",
      "try again\n"
     ]
    }
   ],
   "source": [
    "a = input(\"enter your name:\")\n",
    "if a == \"jod\":\n",
    "    print(\"yes\")\n",
    "elif a == \"dog\":\n",
    "    print(\"no\")\n",
    "elif a == \"god\":\n",
    "    print(\"ok\")\n",
    "else:\n",
    "    print(\"try again\")\n"
   ]
  },
  {
   "cell_type": "code",
   "execution_count": 25,
   "id": "245cb81f",
   "metadata": {},
   "outputs": [
    {
     "name": "stdout",
     "output_type": "stream",
     "text": [
      "Enter your age: 111\n",
      "G.O.A.T\n"
     ]
    }
   ],
   "source": [
    "a = int(input(\"Enter your age: \"))\n",
    "if 0 <= a <= 19:\n",
    "    print(\"teenage\")\n",
    "elif 20 <= a <= 35:\n",
    "    print(\"young\")\n",
    "elif 35 <= a <= 90:\n",
    "    print(\"bhudda\")\n",
    "elif 90 <= a <= 200:\n",
    "    print(\"G.O.A.T\")\n",
    "else:\n",
    "    print(\"Please enter a valid age\")\n"
   ]
  },
  {
   "cell_type": "markdown",
   "id": "9b368480",
   "metadata": {},
   "source": [
    "# Nested Conditional Statement"
   ]
  },
  {
   "cell_type": "code",
   "execution_count": 31,
   "id": "c4cd400c",
   "metadata": {},
   "outputs": [
    {
     "name": "stdout",
     "output_type": "stream",
     "text": [
      "Enter number: 19\n",
      "Your RTO information:\n",
      "You can drive\n",
      "You won a scratch coupon\n"
     ]
    }
   ],
   "source": [
    "a = int(input(\"Enter number: \"))\n",
    "if 0 <= a <= 30:\n",
    "    print(\"Your RTO information:\")\n",
    "    if 18 <= a <= 100:\n",
    "        if a == 19:\n",
    "            print(\"You can drive\")\n",
    "            print(\"You won a scratch coupon\")\n",
    "        else:\n",
    "            print(\"You can't drive, you dumbo\")\n"
   ]
  },
  {
   "cell_type": "code",
   "execution_count": 32,
   "id": "c4a210d8",
   "metadata": {},
   "outputs": [
    {
     "name": "stdout",
     "output_type": "stream",
     "text": [
      "j\n",
      "o\n",
      "d\n"
     ]
    }
   ],
   "source": [
    "#method - 1\n",
    "a = \"jod\"\n",
    "for i in a:\n",
    "    print(i)"
   ]
  },
  {
   "cell_type": "code",
   "execution_count": 34,
   "id": "4a38b761",
   "metadata": {},
   "outputs": [
    {
     "name": "stdout",
     "output_type": "stream",
     "text": [
      "j o d "
     ]
    }
   ],
   "source": [
    "a = \"jod\"\n",
    "for i in a:\n",
    "    print(i, end = \" \")"
   ]
  },
  {
   "cell_type": "code",
   "execution_count": 35,
   "id": "f6b4f55e",
   "metadata": {},
   "outputs": [
    {
     "data": {
      "text/plain": [
       "3"
      ]
     },
     "execution_count": 35,
     "metadata": {},
     "output_type": "execute_result"
    }
   ],
   "source": [
    "a= \"jod\"\n",
    "len(a)"
   ]
  },
  {
   "cell_type": "code",
   "execution_count": 36,
   "id": "c6c146a6",
   "metadata": {},
   "outputs": [
    {
     "name": "stdout",
     "output_type": "stream",
     "text": [
      "j\n",
      "o\n",
      "d\n"
     ]
    }
   ],
   "source": [
    "for i in range(len(a)):\n",
    "    print(a[i])"
   ]
  },
  {
   "cell_type": "code",
   "execution_count": 37,
   "id": "c6930151",
   "metadata": {},
   "outputs": [],
   "source": [
    "# method-3\n",
    "# start_index_value(include) and last_index_value(exclude)\n",
    "# for i in range(start, last, step_value): print(i)"
   ]
  },
  {
   "cell_type": "code",
   "execution_count": 41,
   "id": "1a6c824f",
   "metadata": {},
   "outputs": [
    {
     "name": "stdout",
     "output_type": "stream",
     "text": [
      "1\n",
      "3\n",
      "5\n",
      "7\n",
      "9\n",
      "11\n",
      "13\n",
      "15\n",
      "17\n",
      "19\n"
     ]
    }
   ],
   "source": [
    "for i in range(1,20,2):\n",
    "    print(i)"
   ]
  },
  {
   "cell_type": "markdown",
   "id": "c056c316",
   "metadata": {},
   "source": [
    "# While loop"
   ]
  },
  {
   "cell_type": "code",
   "execution_count": 42,
   "id": "a8e438f5",
   "metadata": {},
   "outputs": [],
   "source": [
    "#(a). initialization\n",
    "#(b). condition\n",
    "#(c). Increment or decrement"
   ]
  },
  {
   "cell_type": "code",
   "execution_count": 43,
   "id": "a842c2e8",
   "metadata": {},
   "outputs": [],
   "source": [
    "# Q-1) write a program which prints from 1 to 3?"
   ]
  },
  {
   "cell_type": "code",
   "execution_count": 44,
   "id": "5c1e4602",
   "metadata": {},
   "outputs": [
    {
     "name": "stdout",
     "output_type": "stream",
     "text": [
      "1\n",
      "2\n",
      "3\n"
     ]
    }
   ],
   "source": [
    "i=1   ##initailiztion\n",
    "n=3\n",
    "while(i<=n): ## condition\n",
    "    print(i)\n",
    "    i = i +1    ## increment"
   ]
  },
  {
   "cell_type": "code",
   "execution_count": 45,
   "id": "5abf609e",
   "metadata": {},
   "outputs": [],
   "source": [
    "# step-1 (i = 1, n = 3)\n",
    "#while(1<=3):\n",
    "#    print(1)\n",
    "#   i = 1+1 = 2\n",
    "\n",
    "\n",
    "#step-2 (i=2, n =3)\n",
    "# while(2<=3):\n",
    "# print(2)\n",
    "# i=3+1 = 4\n",
    "\n",
    "\n",
    "# step-3 (i=3 , n=3)\n",
    "#while(3<=3):\n",
    "#print(3)\n",
    "#i =3+1 = 4\n",
    "\n",
    "\n",
    "# step-4 (i=4,n=3)\n",
    "#while(4<=3):\n",
    "#break"
   ]
  },
  {
   "cell_type": "code",
   "execution_count": 47,
   "id": "9fcf05f7",
   "metadata": {},
   "outputs": [
    {
     "name": "stdout",
     "output_type": "stream",
     "text": [
      "1\n",
      "3\n",
      "6\n",
      "10\n"
     ]
    }
   ],
   "source": [
    "i=1\n",
    "n=4\n",
    "sum=0\n",
    "while(i<=n):\n",
    "    sum= sum+i\n",
    "    i = i+1\n",
    "    print(sum)"
   ]
  },
  {
   "cell_type": "code",
   "execution_count": 48,
   "id": "a8a81eb7",
   "metadata": {},
   "outputs": [],
   "source": [
    "#  step-1 (i=1, n=4, sum =0)\n",
    "# while(1<=4)\n",
    "#  sum = 0+1 =1\n",
    "# i= 1+1+=2\n",
    "\n",
    "# step -2 (i=2, n=4, sum =1)\n",
    "# while(2<=4):\n",
    "#     sum=1+2=3\n",
    "#     i= 2+1 = 3\n",
    "    \n",
    "#step -3 (i=3, n=4, sum=3)\n",
    "# while(3<=4):\n",
    "#     sum=3+3=6\n",
    "#     i= 3+1=4\n",
    "\n",
    "#step-4 (i=4, n=4, sum=6)\n",
    "# while(4<=4):\n",
    "#     sum=6+4=10\n",
    "#     i= 4+1=5\n",
    "\n",
    "# Final output ====> sum = 10"
   ]
  },
  {
   "cell_type": "code",
   "execution_count": 52,
   "id": "425b43f2",
   "metadata": {},
   "outputs": [
    {
     "name": "stdout",
     "output_type": "stream",
     "text": [
      "Enter a number: 2005\n",
      "Sum of odd digits: 5\n",
      "Sum of even digits: 2\n"
     ]
    }
   ],
   "source": [
    "a = input(\"Enter a number: \")\n",
    "odd = 0\n",
    "even = 0\n",
    "\n",
    "for digit in a:\n",
    "    if int(digit) % 2 == 0:\n",
    "        even += int(digit)\n",
    "    else:\n",
    "        odd += int(digit)\n",
    "\n",
    "print(\"Sum of odd digits:\", odd)\n",
    "print(\"Sum of even digits:\", even)\n"
   ]
  },
  {
   "cell_type": "code",
   "execution_count": 54,
   "id": "a2187455",
   "metadata": {},
   "outputs": [
    {
     "name": "stdout",
     "output_type": "stream",
     "text": [
      "4\n",
      "3\n",
      "2\n",
      "1\n"
     ]
    }
   ],
   "source": [
    "i = 4\n",
    "\n",
    "while i >= 1:\n",
    "    print(i)\n",
    "    i = i - 1\n"
   ]
  },
  {
   "cell_type": "code",
   "execution_count": 56,
   "id": "18383327",
   "metadata": {},
   "outputs": [
    {
     "name": "stdout",
     "output_type": "stream",
     "text": [
      "Enter a number: 2005\n",
      "Reversed number: 5002\n"
     ]
    }
   ],
   "source": [
    "a = int(input(\"Enter a number: \"))\n",
    "reverse = 0\n",
    "\n",
    "while a != 0:\n",
    "    digit = a % 10\n",
    "    reverse = reverse * 10 + digit\n",
    "    a = a // 10\n",
    "\n",
    "print(\"Reversed number:\", reverse)\n"
   ]
  },
  {
   "cell_type": "code",
   "execution_count": null,
   "id": "1b9a6617",
   "metadata": {},
   "outputs": [],
   "source": []
  }
 ],
 "metadata": {
  "kernelspec": {
   "display_name": "Python 3 (ipykernel)",
   "language": "python",
   "name": "python3"
  },
  "language_info": {
   "codemirror_mode": {
    "name": "ipython",
    "version": 3
   },
   "file_extension": ".py",
   "mimetype": "text/x-python",
   "name": "python",
   "nbconvert_exporter": "python",
   "pygments_lexer": "ipython3",
   "version": "3.11.5"
  }
 },
 "nbformat": 4,
 "nbformat_minor": 5
}
